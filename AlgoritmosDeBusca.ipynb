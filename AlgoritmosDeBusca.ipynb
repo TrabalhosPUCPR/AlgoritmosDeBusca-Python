{
  "nbformat": 4,
  "nbformat_minor": 0,
  "metadata": {
    "colab": {
      "provenance": [],
      "authorship_tag": "ABX9TyNBC2N2MbSb3U3e1RLfCV5k",
      "include_colab_link": true
    },
    "kernelspec": {
      "name": "python3",
      "display_name": "Python 3"
    },
    "language_info": {
      "name": "python"
    }
  },
  "cells": [
    {
      "cell_type": "markdown",
      "metadata": {
        "id": "view-in-github",
        "colab_type": "text"
      },
      "source": [
        "<a href=\"https://colab.research.google.com/github/TrabalhosPUCPR/Bfs-Dfs-Ucs-Python/blob/main/AlgoritmosDeBusca.ipynb\" target=\"_parent\"><img src=\"https://colab.research.google.com/assets/colab-badge.svg\" alt=\"Open In Colab\"/></a>"
      ]
    },
    {
      "cell_type": "code",
      "execution_count": 61,
      "metadata": {
        "id": "H2QnXbSbcuK4"
      },
      "outputs": [],
      "source": [
        "from collections import deque\n",
        "from bisect import insort\n",
        "\n",
        "# Heuristic for the Romania problem.\n",
        "# Values represent the line-straight to Bucharest (LSB)\n",
        "heuristic_lsb = {\n",
        "  'Arad': 366, 'Bucharest': 0, \"Craiova\": 160, \"Drobeta\": 242,\n",
        "  \"Eforie\": 161, \"Fagaras\": 176, \"Giurgiu\": 77, \"Hirsova\": 151,\n",
        "  \"Iasi\": 226, \"Lugoj\": 244, \"Mehadia\": 241, \"Neamt\": 234,\n",
        "  \"Oradea\": 380, \"Pitesti\": 100, \"Rimnicu Vilcea\": 193,\n",
        "  \"Sibiu\": 253,\n",
        "  \"Timisoara\": 329, \"Urziceni\": 80, \"Vaslui\": 199,\n",
        "  \"Zerind\":374\n",
        "}\n",
        "\n",
        "# Graph of Romania\n",
        "romenia = {\n",
        "  \"Arad\": {\"Zerind\": 75, \"Timisoara\": 118, \"Sibiu\": 140},\n",
        "  \"Zerind\": {\"Oradea\": 71, \"Arad\": 75},\n",
        "  \"Timisoara\": {\"Lugoj\": 111, \"Arad\": 118},\n",
        "  \"Lugoj\": {\"Timisoara\": 111, \"Mehadia\": 70},\n",
        "  \"Mehadia\": {\"Lugoj\": 70, \"Drobeta\": 75},\n",
        "  \"Drobeta\": {\"Mehadia\": 75, \"Craiova\": 120},\n",
        "  \"Craiova\": {\"Rimnicu Vilcea\": 146, \"Pitesti\": 138, \"Drobeta\": 120,},\n",
        "  \"Rimnicu Vilcea\": {\"Sibiu\": 80, \"Pitesti\": 97, \"Craiova\": 146,},\n",
        "  \"Sibiu\": {\"Rimnicu Vilcea\": 80, \"Oradea\": 151, \"Fagaras\": 99, \"Arad\":140,},\n",
        "  \"Oradea\": {\"Zerind\": 71, \"Sibiu\": 151},\n",
        "  \"Fagaras\": {\"Sibiu\": 99, \"Bucharest\": 211},\n",
        "  \"Pitesti\": {\"Rimnicu Vilcea\": 97, \"Craiova\": 138, \"Bucharest\": 101},\n",
        "  \"Bucharest\": {\"Urziceni\": 85, \"Pitesti\": 101, \"Giurgiu\": 90,\n",
        "  \"Fagaras\": 211},\n",
        "  \"Giurgiu\": {\"Bucharest\": 90},\n",
        "  \"Urziceni\": {\"Vaslui\": 142, \"Hirsova\": 98, \"Bucharest\": 85,},\n",
        "  \"Hirsova\": {\"Urziceni\": 98, \"Eforie\": 86},\n",
        "  \"Eforie\": {\"Hirsova\": 86},\n",
        "  \"Vaslui\": {\"Urziceni\": 142, \"Iasi\": 92},\n",
        "  \"Iasi\": {\"Vaslui\": 92, \"Neamt\": 87},\n",
        "  \"Neamt\": {\"Iasi\": 87}\n",
        "}\n",
        "\n",
        "# Grafo do exemplo discutido em aula\n",
        "G0 = {\n",
        "  'S': ['d', 'e', 'p'],\n",
        "  'a': [],\n",
        "  'b': ['a'],\n",
        "  'c': ['a'],\n",
        "  'd': ['b', 'c', 'e'],\n",
        "  'e': ['h', 'r'],\n",
        "  'f': ['c', 'g'],\n",
        "  'g': [],\n",
        "  'h': ['p', 'q'],\n",
        "  'p': ['q'],\n",
        "  'q': [],\n",
        "  'r': ['f']\n",
        "}\n",
        "\n",
        "# Versão do Grafo G0 ponderado\n",
        "G1 = {\n",
        "  'S': {'d': 3, 'e': 9, 'p': 1},\n",
        "  'a': {},\n",
        "  'b': {'a': 2},\n",
        "  'c': {'a': 2},\n",
        "  'd': {'b': 1, 'c': 8, 'e': 2},\n",
        "  'e': {'h': 8, 'r': 2},\n",
        "  'f': {'c': 3, 'g': 2},\n",
        "  'g': {},\n",
        "  'h': {'p': 4, 'q': 4},\n",
        "  'p': {'q': 15},\n",
        "  'q': {},\n",
        "  'r': {'f': 1}\n",
        "}"
      ]
    },
    {
      "cell_type": "markdown",
      "source": [
        "DEPTH FIRST SEARCH"
      ],
      "metadata": {
        "id": "Xs08zTs_tnvx"
      }
    },
    {
      "cell_type": "code",
      "source": [
        "def dfs(graph, start, destination):\n",
        "  visited = []\n",
        "  toVisit = [start]\n",
        "  paths = [[start]]\n",
        "\n",
        "  while toVisit:\n",
        "    current = toVisit.pop()\n",
        "    currentPath = paths.pop()\n",
        "    visited.append(current)\n",
        "\n",
        "    if current == destination and True:\n",
        "      return currentPath\n",
        "\n",
        "    for adjacent in graph[current]:\n",
        "      if adjacent not in visited:\n",
        "        paths.append(currentPath + [adjacent])\n",
        "        toVisit.append(adjacent)\n",
        "  return False"
      ],
      "metadata": {
        "id": "lOn3XQIddTO3"
      },
      "execution_count": 3,
      "outputs": []
    },
    {
      "cell_type": "markdown",
      "source": [
        "BREADTH FIRST SEARCH"
      ],
      "metadata": {
        "id": "IGZg-lNFtZCq"
      }
    },
    {
      "cell_type": "code",
      "source": [
        "def bfs(graph, start, destination):\n",
        "  visited = []\n",
        "  toVisit = deque([start])\n",
        "  paths = deque([[start]])\n",
        "\n",
        "  while toVisit:\n",
        "    current = toVisit.popleft()\n",
        "    visited.append(current)\n",
        "    currentPath = paths.popleft()\n",
        "    if current == destination:\n",
        "      return currentPath\n",
        "    \n",
        "    for adjacent in graph[current]:\n",
        "      if adjacent not in visited and adjacent not in toVisit:\n",
        "        toVisit.append(adjacent)\n",
        "        paths.append(currentPath + [adjacent])\n",
        "  return False"
      ],
      "metadata": {
        "id": "Vt9FT4jKkBWa"
      },
      "execution_count": 4,
      "outputs": []
    },
    {
      "cell_type": "markdown",
      "source": [
        "UNIFORM COST SEARCH"
      ],
      "metadata": {
        "id": "xyZy1veItW6-"
      }
    },
    {
      "cell_type": "code",
      "source": [
        "def ucs(graph, start, destination):\n",
        "  visited = []\n",
        "  toVisit = deque([(0, [start], start)])\n",
        "\n",
        "  while toVisit:\n",
        "    current = toVisit.popleft()\n",
        "    currentPath = current[1]\n",
        "    visited.append(current[2])\n",
        "\n",
        "    if current[2] == destination:\n",
        "      return current[1], current[0]\n",
        "\n",
        "    for adjacent in graph[current[2]]:\n",
        "      if adjacent not in visited:\n",
        "        insort(toVisit, (current[0] + graph[current[2]][adjacent], currentPath+[adjacent], adjacent))\n",
        "  return False"
      ],
      "metadata": {
        "id": "0xOTIjUHsYW0"
      },
      "execution_count": 5,
      "outputs": []
    },
    {
      "cell_type": "markdown",
      "source": [
        "DEPTH LIMITED SEARCH"
      ],
      "metadata": {
        "id": "bquG0uMJtULF"
      }
    },
    {
      "cell_type": "code",
      "source": [
        "def dls(graph, start, destination, limit):\n",
        "  visited = []\n",
        "  toVisit = [start]\n",
        "  paths = [[start]]\n",
        "\n",
        "  while toVisit and len(paths) < limit:\n",
        "    current = toVisit.pop()\n",
        "    currentPath = paths.pop()\n",
        "\n",
        "    if current == destination:\n",
        "      return currentPath\n",
        "      \n",
        "    for adjacent in graph[current]:\n",
        "      if adjacent not in visited:\n",
        "        toVisit.append(adjacent)\n",
        "        paths.append(currentPath + [adjacent])\n",
        "  return False"
      ],
      "metadata": {
        "id": "Mh89fJ7P4sVV"
      },
      "execution_count": 37,
      "outputs": []
    },
    {
      "cell_type": "markdown",
      "source": [
        "ITERATIVE LIMITED SEARCH"
      ],
      "metadata": {
        "id": "wP5fd5NPtM9U"
      }
    },
    {
      "cell_type": "code",
      "source": [
        "def ids(graph, start, destination, maxLimit = -1, startingLimit = 1):\n",
        "  while maxLimit < 0 or startingLimit <= maxLimit:\n",
        "    result = dls(graph, start, destination, startingLimit)\n",
        "    if result:\n",
        "      return result, startingLimit\n",
        "    startingLimit += 1\n",
        "  return False"
      ],
      "metadata": {
        "id": "0E_CXLGYZMYK"
      },
      "execution_count": 86,
      "outputs": []
    },
    {
      "cell_type": "markdown",
      "source": [
        "GREEDY SEARCH"
      ],
      "metadata": {
        "id": "n8GLBPr9s77P"
      }
    },
    {
      "cell_type": "code",
      "source": [
        "def gs(graph, heuristic, start, destination):\n",
        "  visited = []\n",
        "  toVisit = deque([(0, 0, [start], start)])\n",
        "\n",
        "  while toVisit:\n",
        "    current = toVisit.popleft()\n",
        "    currentPath = current[2]\n",
        "    visited.append(current[3])\n",
        "\n",
        "    if current[3] == destination:\n",
        "      return current[2], current[1]\n",
        "\n",
        "    for adjacent in graph[current[3]]:\n",
        "      if adjacent not in visited:\n",
        "        insort(toVisit, (heuristic[adjacent], current[1] + graph[current[3]][adjacent], currentPath+[adjacent], adjacent))\n",
        "  return False"
      ],
      "metadata": {
        "id": "VVt_pHEXhYoB"
      },
      "execution_count": 93,
      "outputs": []
    },
    {
      "cell_type": "markdown",
      "source": [
        "A * SEARCH"
      ],
      "metadata": {
        "id": "V2AVFXtxv573"
      }
    },
    {
      "cell_type": "code",
      "source": [
        "def aStar(graph, heuristic, start, destination):\n",
        "  visited = []\n",
        "  toVisit = deque([(0, 0, [start], start)])\n",
        "\n",
        "  while toVisit:\n",
        "    current = toVisit.popleft()\n",
        "    currentPath = current[2]\n",
        "    visited.append(current[3])\n",
        "\n",
        "    if current[3] == destination:\n",
        "      return current[2], current[1]\n",
        "\n",
        "    for adjacent in graph[current[3]]:\n",
        "      if adjacent not in visited:\n",
        "        g = current[1] + graph[current[3]][adjacent]\n",
        "        h = heuristic[adjacent]\n",
        "        f = h + g\n",
        "        insort(toVisit, (f, g, currentPath+[adjacent], adjacent))\n",
        "  return False"
      ],
      "metadata": {
        "id": "9yjTgd8wv8zP"
      },
      "execution_count": 95,
      "outputs": []
    },
    {
      "cell_type": "markdown",
      "source": [
        "PRINTS"
      ],
      "metadata": {
        "id": "9SDGZe2HtqhI"
      }
    },
    {
      "cell_type": "code",
      "source": [
        "print(\"DFS: \", dfs(G0, 'S', 'g'))\n",
        "print(\"BFS: \", bfs(G0, 'S', 'g'))\n",
        "print(\"UCS: \", ucs(G1, 'S', 'g'))\n",
        "print(\"DLS: \", dls(G1, 'S', 'g', 5))\n",
        "print(\"IDS: \", ids(G1, 'S', 'g'))\n",
        "print(\"GS: \", gs(romenia, heuristic_lsb, \"Arad\", \"Bucharest\"))\n",
        "print(\"A*: \", aStar(romenia, heuristic_lsb, \"Arad\", \"Bucharest\"))"
      ],
      "metadata": {
        "colab": {
          "base_uri": "https://localhost:8080/"
        },
        "id": "8X_M-72btYag",
        "outputId": "6c1691bb-b23e-4f15-ed60-1f93540f0ad2"
      },
      "execution_count": 96,
      "outputs": [
        {
          "output_type": "stream",
          "name": "stdout",
          "text": [
            "DFS:  ['S', 'e', 'r', 'f', 'g']\n",
            "BFS:  ['S', 'e', 'r', 'f', 'g']\n",
            "UCS:  (['S', 'd', 'e', 'r', 'f', 'g'], 10)\n",
            "DLS:  ['S', 'e', 'r', 'f', 'g']\n",
            "IDS:  (['S', 'e', 'r', 'f', 'g'], 5)\n",
            "GS:  (['Arad', 'Sibiu', 'Fagaras', 'Bucharest'], 450)\n",
            "A*:  (['Arad', 'Sibiu', 'Rimnicu Vilcea', 'Pitesti', 'Bucharest'], 418)\n"
          ]
        }
      ]
    }
  ]
}