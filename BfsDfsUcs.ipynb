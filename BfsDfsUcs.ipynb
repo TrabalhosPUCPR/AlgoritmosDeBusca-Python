{
  "nbformat": 4,
  "nbformat_minor": 0,
  "metadata": {
    "colab": {
      "provenance": [],
      "authorship_tag": "ABX9TyML+QSmms7GnNarnov54Ilq",
      "include_colab_link": true
    },
    "kernelspec": {
      "name": "python3",
      "display_name": "Python 3"
    },
    "language_info": {
      "name": "python"
    }
  },
  "cells": [
    {
      "cell_type": "markdown",
      "metadata": {
        "id": "view-in-github",
        "colab_type": "text"
      },
      "source": [
        "<a href=\"https://colab.research.google.com/github/TrabalhosPUCPR/Bfs-Dfs-Ucs-Python/blob/main/BfsDfsUcs.ipynb\" target=\"_parent\"><img src=\"https://colab.research.google.com/assets/colab-badge.svg\" alt=\"Open In Colab\"/></a>"
      ]
    },
    {
      "cell_type": "code",
      "execution_count": 47,
      "metadata": {
        "id": "H2QnXbSbcuK4"
      },
      "outputs": [],
      "source": [
        "from collections import deque\n",
        "from bisect import insort\n",
        "\n",
        "# Grafo com as distâncias das cidades da Romenia\n",
        "romenia = {\n",
        "  \"Arad\": {\"Zerind\": 75, \"Timisoara\": 118, \"Sibiu\": 140},\n",
        "  \"Zerind\": {\"Oradea\": 71, \"Arad\": 75},\n",
        "  \"Timisoara\": {\"Lugoj\": 111, \"Arad\": 118},\n",
        "  \"Lugoj\": {\"Timisoara\": 111, \"Mehadia\": 70},\n",
        "  \"Mehadia\": {\"Lugoj\": 70, \"Dobreta\": 75},\n",
        "  \"Dobreta\": {\"Mehadia\": 75, \"Craiova\": 120},\n",
        "  \"Craiova\": {\"Rimnicu Vilcea\": 146, \"Pitesti\": 138, \"Dobreta\": 120,},\n",
        "  \"Rimnicu Vilcea\": {\"Sibiu\": 80, \"Pitesti\": 97, \"Craiova\": 146,},\n",
        "  \"Sibiu\": {\"Rimnicu Vilcea\": 80, \"Oradea\": 151, \"Fagaras\": 99, \"Arad\": 140,},\n",
        "  \"Oradea\": {\"Zerind\": 71, \"Sibiu\": 151},\n",
        "  \"Fagaras\": {\"Sibiu\": 99, \"Bucharest\": 211},\n",
        "  \"Pitesti\": {\"Rimnicu Vilcea\": 97, \"Craiova\": 138, \"Bucharest\": 101},\n",
        "  \"Bucharest\": {\"Urziceni\": 85, \"Pitesti\": 101, \"Giurgiu\": 90, \"Fagaras\": 211},\n",
        "  \"Giurgiu\": {\"Bucharest\": 90},\n",
        "  \"Urziceni\": {\"Vaslui\": 142, \"Hirsova\": 98, \"Bucharest\": 85,},\n",
        "  \"Hirsova\": {\"Urziceni\": 98, \"Eforie\": 86},\n",
        "  \"Eforie\": {\"Hirsova\": 86},\n",
        "  \"Vaslui\": {\"Urziceni\": 142, \"Iasi\": 92},\n",
        "  \"Iasi\": {\"Vaslui\": 92, \"Neamt\": 87},\n",
        "  \"Neamt\": {\"Iasi\": 87}\n",
        "}\n",
        "\n",
        "# Grafo do exemplo discutido em aula\n",
        "G0 = {\n",
        "  'S': ['d', 'e', 'p'],\n",
        "  'a': [],\n",
        "  'b': ['a'],\n",
        "  'c': ['a'],\n",
        "  'd': ['b', 'c', 'e'],\n",
        "  'e': ['h', 'r'],\n",
        "  'f': ['c', 'g'],\n",
        "  'g': [],\n",
        "  'h': ['p', 'q'],\n",
        "  'p': ['q'],\n",
        "  'q': [],\n",
        "  'r': ['f']\n",
        "}\n",
        "\n",
        "# Versão do Grafo G0 ponderado\n",
        "G1 = {\n",
        "  'S': {'d': 3, 'e': 9, 'p': 1},\n",
        "  'a': {},\n",
        "  'b': {'a': 2},\n",
        "  'c': {'a': 2},\n",
        "  'd': {'b': 1, 'c': 8, 'e': 2},\n",
        "  'e': {'h': 8, 'r': 2},\n",
        "  'f': {'c': 3, 'g': 2},\n",
        "  'g': {},\n",
        "  'h': {'p': 4, 'q': 4},\n",
        "  'p': {'q': 15},\n",
        "  'q': {},\n",
        "  'r': {'f': 1}\n",
        "}"
      ]
    },
    {
      "cell_type": "code",
      "source": [
        "def dfs(graph, start, destination):\n",
        "  visited = []\n",
        "  toVisit = [start]\n",
        "  paths = [[start]]\n",
        "\n",
        "  while toVisit:\n",
        "    current = toVisit.pop()\n",
        "    currentPath = paths.pop()\n",
        "    visited.append(current)\n",
        "\n",
        "    if current == destination and True:\n",
        "      return currentPath\n",
        "\n",
        "    for adjacent in graph[current]:\n",
        "      if adjacent not in visited:\n",
        "        paths.append(currentPath + [adjacent])\n",
        "        toVisit.append(adjacent)\n",
        "  return False"
      ],
      "metadata": {
        "colab": {
          "base_uri": "https://localhost:8080/"
        },
        "id": "lOn3XQIddTO3",
        "outputId": "7fcb2ef1-4aa6-4fdd-e474-aefc36348072"
      },
      "execution_count": 19,
      "outputs": [
        {
          "output_type": "stream",
          "name": "stdout",
          "text": [
            "['S', 'e', 'r', 'f', 'g']\n"
          ]
        }
      ]
    },
    {
      "cell_type": "code",
      "source": [
        "def bfs(graph, start, destination):\n",
        "  visited = []\n",
        "  toVisit = deque([start])\n",
        "  paths = deque([[start]])\n",
        "\n",
        "  while toVisit:\n",
        "    current = toVisit.popleft()\n",
        "    visited.append(current)\n",
        "    currentPath = paths.popleft()\n",
        "    if current == destination:\n",
        "      return currentPath\n",
        "    \n",
        "    for adjacent in graph[current]:\n",
        "      if adjacent not in visited and adjacent not in toVisit:\n",
        "        toVisit.append(adjacent)\n",
        "        paths.append(currentPath + [adjacent])\n",
        "  return False"
      ],
      "metadata": {
        "colab": {
          "base_uri": "https://localhost:8080/"
        },
        "id": "Vt9FT4jKkBWa",
        "outputId": "404decdd-9e12-44a4-f4cc-44585c2182d8"
      },
      "execution_count": 30,
      "outputs": [
        {
          "output_type": "stream",
          "name": "stdout",
          "text": [
            "['S', 'e', 'r', 'f', 'g']\n"
          ]
        }
      ]
    },
    {
      "cell_type": "code",
      "source": [
        "def ucs(graph, start, destination):\n",
        "  visited = []\n",
        "  toVisit = deque([(0, [start], start)])\n",
        "\n",
        "  while toVisit:\n",
        "    current = toVisit.popleft()\n",
        "    currentPath = current[1]\n",
        "    visited.append(current[2])\n",
        "\n",
        "    if current[2] == destination:\n",
        "      return current[1], current[0]\n",
        "\n",
        "    for adjacent in graph[current[2]]:\n",
        "      if adjacent not in visited:\n",
        "        insort(toVisit, (current[0] + graph[current[2]][adjacent], currentPath+[adjacent], adjacent))\n",
        "print(ucs(G1, 'S', 'g'))"
      ],
      "metadata": {
        "colab": {
          "base_uri": "https://localhost:8080/"
        },
        "id": "0xOTIjUHsYW0",
        "outputId": "a96ae02d-aee1-4512-8654-d3fcb48ddc1b"
      },
      "execution_count": 62,
      "outputs": [
        {
          "output_type": "stream",
          "name": "stdout",
          "text": [
            "(['S', 'd', 'e', 'r', 'f', 'g'], 10)\n"
          ]
        }
      ]
    },
    {
      "cell_type": "code",
      "source": [
        "print(\"DFS: \", dfs(G0, 'S', 'g'))\n",
        "print(\"BFS: \", bfs(G0, 'S', 'g'))\n",
        "print(\"UCS: \", ucs(G1, 'S', 'g'))"
      ],
      "metadata": {
        "colab": {
          "base_uri": "https://localhost:8080/"
        },
        "id": "8X_M-72btYag",
        "outputId": "3285a71a-2368-4efb-f730-8c71f4ec0b63"
      },
      "execution_count": 63,
      "outputs": [
        {
          "output_type": "stream",
          "name": "stdout",
          "text": [
            "['S', 'e', 'r', 'f', 'g']\n",
            "['S', 'e', 'r', 'f', 'g']\n",
            "(['S', 'd', 'e', 'r', 'f', 'g'], 10)\n"
          ]
        }
      ]
    }
  ]
}